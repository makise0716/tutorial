{
  "nbformat": 4,
  "nbformat_minor": 0,
  "metadata": {
    "colab": {
      "provenance": [],
      "authorship_tag": "ABX9TyOzGb3kTs5CFQV5OYVyBmO/",
      "include_colab_link": true
    },
    "kernelspec": {
      "name": "python3",
      "display_name": "Python 3"
    },
    "language_info": {
      "name": "python"
    }
  },
  "cells": [
    {
      "cell_type": "markdown",
      "metadata": {
        "id": "view-in-github",
        "colab_type": "text"
      },
      "source": [
        "<a href=\"https://colab.research.google.com/github/makise0716/tutorial/blob/main/mainGUI.ipynb\" target=\"_parent\"><img src=\"https://colab.research.google.com/assets/colab-badge.svg\" alt=\"Open In Colab\"/></a>"
      ]
    },
    {
      "cell_type": "code",
      "execution_count": null,
      "metadata": {
        "id": "kEY9kWYnKDqK",
        "outputId": "96eb3e55-8e83-4d35-f564-7d3b9416d4f5",
        "colab": {
          "base_uri": "https://localhost:8080/",
          "height": 332
        }
      },
      "outputs": [
        {
          "output_type": "error",
          "ename": "TclError",
          "evalue": "no display name and no $DISPLAY environment variable",
          "traceback": [
            "\u001b[0;31m---------------------------------------------------------------------------\u001b[0m",
            "\u001b[0;31mTclError\u001b[0m                                  Traceback (most recent call last)",
            "\u001b[0;32m<ipython-input-1-a7007187b77e>\u001b[0m in \u001b[0;36m<cell line: 28>\u001b[0;34m()\u001b[0m\n\u001b[1;32m     26\u001b[0m \u001b[0;34m\u001b[0m\u001b[0m\n\u001b[1;32m     27\u001b[0m \u001b[0;31m# 創建主窗口\u001b[0m\u001b[0;34m\u001b[0m\u001b[0;34m\u001b[0m\u001b[0m\n\u001b[0;32m---> 28\u001b[0;31m \u001b[0mroot\u001b[0m \u001b[0;34m=\u001b[0m \u001b[0mtk\u001b[0m\u001b[0;34m.\u001b[0m\u001b[0mTk\u001b[0m\u001b[0;34m(\u001b[0m\u001b[0;34m)\u001b[0m\u001b[0;34m\u001b[0m\u001b[0;34m\u001b[0m\u001b[0m\n\u001b[0m\u001b[1;32m     29\u001b[0m \u001b[0mroot\u001b[0m\u001b[0;34m.\u001b[0m\u001b[0mtitle\u001b[0m\u001b[0;34m(\u001b[0m\u001b[0;34m\"藥物小幫手\"\u001b[0m\u001b[0;34m)\u001b[0m\u001b[0;34m\u001b[0m\u001b[0;34m\u001b[0m\u001b[0m\n\u001b[1;32m     30\u001b[0m \u001b[0;34m\u001b[0m\u001b[0m\n",
            "\u001b[0;32m/usr/lib/python3.10/tkinter/__init__.py\u001b[0m in \u001b[0;36m__init__\u001b[0;34m(self, screenName, baseName, className, useTk, sync, use)\u001b[0m\n\u001b[1;32m   2297\u001b[0m                 \u001b[0mbaseName\u001b[0m \u001b[0;34m=\u001b[0m \u001b[0mbaseName\u001b[0m \u001b[0;34m+\u001b[0m \u001b[0mext\u001b[0m\u001b[0;34m\u001b[0m\u001b[0;34m\u001b[0m\u001b[0m\n\u001b[1;32m   2298\u001b[0m         \u001b[0minteractive\u001b[0m \u001b[0;34m=\u001b[0m \u001b[0;32mFalse\u001b[0m\u001b[0;34m\u001b[0m\u001b[0;34m\u001b[0m\u001b[0m\n\u001b[0;32m-> 2299\u001b[0;31m         \u001b[0mself\u001b[0m\u001b[0;34m.\u001b[0m\u001b[0mtk\u001b[0m \u001b[0;34m=\u001b[0m \u001b[0m_tkinter\u001b[0m\u001b[0;34m.\u001b[0m\u001b[0mcreate\u001b[0m\u001b[0;34m(\u001b[0m\u001b[0mscreenName\u001b[0m\u001b[0;34m,\u001b[0m \u001b[0mbaseName\u001b[0m\u001b[0;34m,\u001b[0m \u001b[0mclassName\u001b[0m\u001b[0;34m,\u001b[0m \u001b[0minteractive\u001b[0m\u001b[0;34m,\u001b[0m \u001b[0mwantobjects\u001b[0m\u001b[0;34m,\u001b[0m \u001b[0museTk\u001b[0m\u001b[0;34m,\u001b[0m \u001b[0msync\u001b[0m\u001b[0;34m,\u001b[0m \u001b[0muse\u001b[0m\u001b[0;34m)\u001b[0m\u001b[0;34m\u001b[0m\u001b[0;34m\u001b[0m\u001b[0m\n\u001b[0m\u001b[1;32m   2300\u001b[0m         \u001b[0;32mif\u001b[0m \u001b[0museTk\u001b[0m\u001b[0;34m:\u001b[0m\u001b[0;34m\u001b[0m\u001b[0;34m\u001b[0m\u001b[0m\n\u001b[1;32m   2301\u001b[0m             \u001b[0mself\u001b[0m\u001b[0;34m.\u001b[0m\u001b[0m_loadtk\u001b[0m\u001b[0;34m(\u001b[0m\u001b[0;34m)\u001b[0m\u001b[0;34m\u001b[0m\u001b[0;34m\u001b[0m\u001b[0m\n",
            "\u001b[0;31mTclError\u001b[0m: no display name and no $DISPLAY environment variable"
          ]
        }
      ],
      "source": [
        "import tkinter as tk\n",
        "from tkinter import messagebox\n",
        "\n",
        "def show_drug_info():\n",
        "    # 在此添加顯示藥物資訊的功能\n",
        "    drug = entry_drug.get()\n",
        "    if drug:\n",
        "        text_output.config(state=\"normal\")\n",
        "        text_output.delete(\"1.0\", tk.END)\n",
        "        text_output.insert(tk.END, f\"顯示 {drug} 的藥物資訊...\")\n",
        "        text_output.config(state=\"disabled\")\n",
        "    else:\n",
        "        messagebox.showwarning(\"警告\", \"請輸入主查藥物！\")\n",
        "\n",
        "def show_interaction_info():\n",
        "    # 在此添加顯示交互作用的功能\n",
        "    drug1 = entry_drug.get()\n",
        "    drug2 = entry_interaction.get()\n",
        "    if drug1 and drug2:\n",
        "        text_output.config(state=\"normal\")\n",
        "        text_output.delete(\"1.0\", tk.END)\n",
        "        text_output.insert(tk.END, f\"顯示 {drug1} 和 {drug2} 的交互作用資訊...\")\n",
        "        text_output.config(state=\"disabled\")\n",
        "    else:\n",
        "        messagebox.showwarning(\"警告\", \"請輸入主查藥物和交互藥物！\")\n",
        "\n",
        "# 創建主窗口\n",
        "root = tk.Tk()\n",
        "root.title(\"藥物小幫手\")\n",
        "\n",
        "# 上方 Label\n",
        "label_title = tk.Label(root, text=\"藥物小幫手\", font=(\"Arial\", 16))\n",
        "label_title.grid(row=0, column=0, columnspan=3, pady=10)\n",
        "\n",
        "# 主查藥物 Label 和 Textbox\n",
        "label_drug = tk.Label(root, text=\"主查藥物：\")\n",
        "label_drug.grid(row=1, column=0, padx=10, pady=5, sticky=\"e\")\n",
        "entry_drug = tk.Entry(root, width=30)\n",
        "entry_drug.grid(row=1, column=1, padx=10, pady=5)\n",
        "\n",
        "# 交互藥物 Label 和 Textbox\n",
        "label_interaction = tk.Label(root, text=\"交互藥物：\")\n",
        "label_interaction.grid(row=2, column=0, padx=10, pady=5, sticky=\"e\")\n",
        "entry_interaction = tk.Entry(root, width=30)\n",
        "entry_interaction.grid(row=2, column=1, padx=10, pady=5)\n",
        "\n",
        "# 按鈕\n",
        "button_info = tk.Button(root, text=\"藥物資訊\", command=show_drug_info)\n",
        "button_info.grid(row=1, column=2, padx=10, pady=5)\n",
        "button_interaction = tk.Button(root, text=\"交互作用\", command=show_interaction_info)\n",
        "button_interaction.grid(row=2, column=2, padx=10, pady=5)\n",
        "\n",
        "# 下方不可編輯文字框\n",
        "label_output = tk.Label(root, text=\"輸出：\")\n",
        "label_output.grid(row=3, column=0, padx=10, pady=5, sticky=\"nw\")\n",
        "text_output = tk.Text(root, width=50, height=10, state=\"disabled\")\n",
        "text_output.grid(row=3, column=1, columnspan=2, padx=10, pady=5)\n",
        "\n",
        "# 運行主循環\n",
        "root.mainloop()\n"
      ]
    }
  ]
}